{
 "cells": [
  {
   "cell_type": "code",
   "execution_count": 1,
   "metadata": {},
   "outputs": [],
   "source": [
    "%matplotlib inline"
   ]
  },
  {
   "cell_type": "code",
   "execution_count": 2,
   "metadata": {},
   "outputs": [
    {
     "name": "stdout",
     "output_type": "stream",
     "text": [
      "\u001b[33mWARN: gym.spaces.Box autodetected dtype as <class 'numpy.float32'>. Please provide explicit dtype.\u001b[0m\n"
     ]
    }
   ],
   "source": [
    "import sys\n",
    "sys.path.append(\"/home/yatindandi/anaconda3/envs/myenv/lib/python3.7/site-packages/gym\")\n",
    "sys.path.append(\"/data/yatind/anaconda3/lib/python3.7/site-packages (0.10.8)\")\n",
    "import gym\n",
    "import os\n",
    "import gc\n",
    "from gym.wrappers import Monitor\n",
    "import math\n",
    "import random\n",
    "import numpy as np\n",
    "import matplotlib\n",
    "import matplotlib.pyplot as plt\n",
    "from collections import namedtuple\n",
    "from itertools import count\n",
    "import torch\n",
    "import torch.nn as nn\n",
    "import torch.optim as optim\n",
    "import torch.nn.functional as F\n",
    "import torchvision.transforms as T\n",
    "from torch.distributions import Categorical\n",
    "\n",
    "env = gym.make('CartPole-v1')\n",
    "device = torch.device(\"cuda\")"
   ]
  },
  {
   "cell_type": "code",
   "execution_count": 3,
   "metadata": {},
   "outputs": [
    {
     "name": "stdout",
     "output_type": "stream",
     "text": [
      "torch.Size([1, 4])\n"
     ]
    }
   ],
   "source": [
    "state = env.reset()\n",
    "state = torch.from_numpy(state).float().unsqueeze(0)\n",
    "print(state.shape)"
   ]
  },
  {
   "cell_type": "code",
   "execution_count": 4,
   "metadata": {},
   "outputs": [],
   "source": [
    "class REINFORCE(nn.Module):\n",
    "    def __init__(self):\n",
    "        super(REINFORCE, self).__init__()\n",
    "        self.head = nn.Sequential(\n",
    "            nn.Linear(4, 256),nn.ReLU(),nn.Linear(256, 2),nn.Softmax(dim=-1))\n",
    "            \n",
    "    def forward(self, x):\n",
    "        x = self.head(x)\n",
    "        return x"
   ]
  },
  {
   "cell_type": "code",
   "execution_count": 5,
   "metadata": {},
   "outputs": [],
   "source": [
    "policy_net = REINFORCE().to(device)"
   ]
  },
  {
   "cell_type": "code",
   "execution_count": 6,
   "metadata": {},
   "outputs": [],
   "source": [
    "optimizer = optim.Adam(policy_net.parameters(),lr = 0.01)"
   ]
  },
  {
   "cell_type": "code",
   "execution_count": 7,
   "metadata": {},
   "outputs": [],
   "source": [
    "episode_lengths = []\n",
    "def learn(env,num_episodes,gamma):\n",
    "    avg_length = 0\n",
    "    for i_episode in range(num_episodes):\n",
    "          rewards = []\n",
    "          scores = []\n",
    "          state = env.reset()\n",
    "          loss = None\n",
    "          for t in range(1000):\n",
    "              state = torch.from_numpy(state).float().unsqueeze(0).to(device)\n",
    "              probs = policy_net(state)\n",
    "              m = Categorical(probs)\n",
    "              action = m.sample()\n",
    "              scores.append(m.log_prob(action))\n",
    "              with torch.no_grad():\n",
    "                  state, reward, done, _ = env.step(action.data[0].item())\n",
    "              rewards.append(reward)\n",
    "              if done:\n",
    "                break\n",
    "              \n",
    "          episode_lengths.append(t)\n",
    "          value = 0\n",
    "          loss = 0\n",
    "          values = []\n",
    "          for reward in rewards[::-1]:\n",
    "              value  = gamma*value + reward\n",
    "              values.append(value)\n",
    "          values = torch.tensor(values).to(device)\n",
    "          values = (values - values.mean()) / (values.std())\n",
    "          for i,value in enumerate(values):\n",
    "              loss -=  value*scores[-(i+1)]\n",
    "          optimizer.zero_grad()\n",
    "          loss.backward()\n",
    "          optimizer.step()\n",
    "          avg_length += episode_lengths[i_episode]\n",
    "          if (i_episode%200==0):\n",
    "              print(avg_length/200)\n",
    "              avg_length = 0\n",
    "\n",
    "    return\n",
    "              \n",
    "         \n",
    "\n",
    "    \n",
    "    "
   ]
  },
  {
   "cell_type": "code",
   "execution_count": 8,
   "metadata": {},
   "outputs": [
    {
     "name": "stdout",
     "output_type": "stream",
     "text": [
      "0.065\n",
      "59.575\n",
      "105.01\n",
      "129.775\n",
      "46.415\n",
      "97.3\n",
      "56.31\n",
      "76.455\n",
      "80.14\n",
      "89.54\n",
      "78.68\n",
      "98.685\n",
      "76.795\n",
      "122.805\n",
      "158.345\n",
      "94.015\n",
      "146.375\n",
      "106.965\n",
      "108.725\n",
      "110.315\n",
      "198.63\n",
      "132.725\n",
      "245.775\n",
      "152.525\n",
      "141.39\n",
      "145.33\n",
      "117.035\n",
      "91.555\n",
      "85.58\n",
      "71.885\n",
      "85.235\n",
      "150.355\n",
      "169.22\n",
      "259.405\n",
      "285.845\n",
      "263.115\n",
      "255.315\n",
      "162.53\n",
      "163.655\n",
      "162.87\n",
      "127.13\n",
      "182.625\n",
      "424.36\n",
      "497.525\n",
      "499.0\n",
      "499.0\n",
      "499.0\n",
      "495.255\n",
      "383.34\n",
      "455.475\n"
     ]
    }
   ],
   "source": [
    "learn(env,10000,0.99)"
   ]
  },
  {
   "cell_type": "code",
   "execution_count": 9,
   "metadata": {},
   "outputs": [],
   "source": [
    "matplotlib.style.use('ggplot')"
   ]
  },
  {
   "cell_type": "code",
   "execution_count": 13,
   "metadata": {},
   "outputs": [
    {
     "data": {
      "image/png": "[encoded data removed]",
      "text/plain": [
       "<matplotlib.figure.Figure at 0x7ff3fe57ae10>"
      ]
     },
     "metadata": {},
     "output_type": "display_data"
    }
   ],
   "source": [
    "y = np.array(episode_lengths)\n",
    "x = np.arange(10000)\n",
    "plt.plot(x, y)\n",
    "plt.show() "
   ]
  },
  {
   "cell_type": "code",
   "execution_count": null,
   "metadata": {},
   "outputs": [],
   "source": []
  }
 ],
 "metadata": {
  "kernelspec": {
   "display_name": "",
   "name": ""
  },
  "language_info": {
   "name": ""
  }
 },
 "nbformat": 4,
 "nbformat_minor": 2
}
