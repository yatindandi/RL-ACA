{
 "cells": [
  {
   "cell_type": "code",
   "execution_count": 1,
   "metadata": {},
   "outputs": [],
   "source": [
    "%matplotlib inline"
   ]
  },
  {
   "cell_type": "code",
   "execution_count": 2,
   "metadata": {},
   "outputs": [],
   "source": [
    "import sys\n",
    "sys.path.append(\"/home/yatindandi/anaconda3/envs/myenv/lib/python3.7/site-packages/gym\")\n",
    "sys.path.append(\"/data/yatind/anaconda3/lib/python3.7/site-packages (0.10.8)\")\n",
    "import gym\n",
    "import os\n",
    "import gc\n",
    "from lib import plotting\n",
    "from gym.wrappers import Monitor\n",
    "import math\n",
    "import random\n",
    "import numpy as np\n",
    "import matplotlib\n",
    "import matplotlib.pyplot as plt\n",
    "from collections import namedtuple\n",
    "from itertools import count\n",
    "import torch\n",
    "import torch.nn as nn\n",
    "import torch.optim as optim\n",
    "import torch.nn.functional as F\n",
    "import torchvision.transforms as T\n",
    "\n",
    "env = gym.envs.make(\"Breakout-v0\")\n",
    "device = torch.device(\"cuda\")"
   ]
  },
  {
   "cell_type": "code",
   "execution_count": 3,
   "metadata": {},
   "outputs": [
    {
     "data": {
      "image/png": "[encoded data removed]",
      "text/plain": [
       "<matplotlib.figure.Figure at 0x7f0f604f8630>"
      ]
     },
     "metadata": {},
     "output_type": "display_data"
    },
    {
     "name": "stdout",
     "output_type": "stream",
     "text": [
      "(210, 160, 3)\n"
     ]
    }
   ],
   "source": [
    "screen = env.reset()\n",
    "plt.imshow(screen)\n",
    "plt.show()\n",
    "print(screen.shape)"
   ]
  },
  {
   "cell_type": "code",
   "execution_count": 4,
   "metadata": {},
   "outputs": [],
   "source": [
    "def process(screen):\n",
    "    screen = screen[34:194,0:160]\n",
    "    resize = T.Compose([\n",
    "        T.ToPILImage(),\n",
    "        T.Grayscale(),\n",
    "        T.Resize((84,84)),\n",
    "        T.ToTensor()\n",
    "    ])\n",
    "    screen = resize(screen)\n",
    "    #plt.imshow(screen.numpy()[0], cmap='gray')\n",
    "    #plt.show()\n",
    "    screen = np.uint8(screen)\n",
    "    screen = np.array(screen, dtype=np.float32) / 255\n",
    "    screen = torch.from_numpy(screen).float()\n",
    "    return resize(screen).unsqueeze(0)\n",
    "\n"
   ]
  },
  {
   "cell_type": "code",
   "execution_count": 5,
   "metadata": {},
   "outputs": [],
   "source": [
    "screen = process(screen)"
   ]
  },
  {
   "cell_type": "code",
   "execution_count": 6,
   "metadata": {},
   "outputs": [
    {
     "data": {
      "text/plain": [
       "torch.Size([1, 1, 84, 84])"
      ]
     },
     "execution_count": 6,
     "metadata": {},
     "output_type": "execute_result"
    }
   ],
   "source": [
    "screen.shape"
   ]
  },
  {
   "cell_type": "code",
   "execution_count": 7,
   "metadata": {},
   "outputs": [],
   "source": [
    "class DQN(nn.Module):\n",
    "\n",
    "    def __init__(self):\n",
    "        super(DQN, self).__init__()\n",
    "        self.conv = nn.Sequential(\n",
    "            nn.Conv2d(4, 16, kernel_size=8, stride=4),nn.ReLU(),nn.Conv2d(16, 32, kernel_size=4, stride=2),nn.ReLU(),nn.Conv2d(32, 32, kernel_size=3, stride=1),nn.ReLU()\n",
    "        )\n",
    "        \n",
    "        self.head = nn.Sequential(\n",
    "            nn.Linear(7*7*32, 256),nn.ReLU(),nn.Linear(256, 4)\n",
    "        )\n",
    "\n",
    "    def forward(self, x):\n",
    "        x = self.conv(x)\n",
    "        x = x.view(x.size(0),-1)\n",
    "        x = self.head(x)\n",
    "        return x\n"
   ]
  },
  {
   "cell_type": "code",
   "execution_count": 8,
   "metadata": {},
   "outputs": [],
   "source": [
    "policy_net = DQN().to(device)\n",
    "target_net = DQN().to(device)\n",
    "target_net.load_state_dict(policy_net.state_dict())\n",
    "optimizer = optim.RMSprop(policy_net.parameters())\n",
    "Transition = namedtuple(\"Transition\", [\"state\", \"action\", \"reward\", \"next_state\", \"done\"])"
   ]
  },
  {
   "cell_type": "code",
   "execution_count": 9,
   "metadata": {},
   "outputs": [
    {
     "name": "stdout",
     "output_type": "stream",
     "text": [
      "torch.Size([1, 4, 84, 84])\n"
     ]
    }
   ],
   "source": [
    "state = env.reset()\n",
    "state = process(state)\n",
    "state = torch.cat(tuple([state] * 4), dim=1)\n",
    "print(state.shape)"
   ]
  },
  {
   "cell_type": "code",
   "execution_count": 10,
   "metadata": {},
   "outputs": [],
   "source": [
    "def learn(env,num_episodes,experiment_dir,replay_memory_size=500000,replay_memory_init_size=50000,update_target_estimator_every=10000,discount_factor=0.99,epsilon_start=1.0,epsilon_end=0.1,epsilon_decay_steps=500000,batch_size=32,\n",
    "record_video_every=50):\n",
    "    \n",
    "    replay_memory = []\n",
    "    # Keeps track of useful statistics\n",
    "    stats = plotting.EpisodeStats(\n",
    "        episode_lengths=np.zeros(num_episodes),\n",
    "        episode_rewards=np.zeros(num_episodes))\n",
    "    \n",
    "    #monitor_path = os.path.join(experiment_dir, \"monitor\")\n",
    "    \n",
    "    #if not os.path.exists(monitor_path):\n",
    "        #os.makedirs(monitor_path)\n",
    "    \n",
    "    num_steps = 0\n",
    "    state = env.reset()\n",
    "    state = process(state)\n",
    "    state = torch.cat(tuple([state] * 4), dim=1)\n",
    "    \n",
    "    def get_action():\n",
    "        sample = random.random()\n",
    "        epsilon = epsilon_end + (epsilon_start - epsilon_end) * math.exp(-1. * num_steps / epsilon_decay_steps)\n",
    "        if sample > epsilon:\n",
    "            with torch.no_grad():\n",
    "                return (policy_net(state.to(device)).max(1)[1].data[0]).to(torch.device(\"cpu\"))\n",
    "        else:\n",
    "            return random.randrange(4)\n",
    "        \n",
    "    for i in range(replay_memory_init_size):\n",
    "        action = get_action()\n",
    "        next_state, reward, done, _ = env.step(action)\n",
    "        next_state = process(next_state)\n",
    "        next_state = torch.cat((state[:,1:,:,:],next_state), dim=1)\n",
    "        replay_memory.append(Transition(state, torch.tensor([[action]], device= torch.device(\"cpu\"), dtype=torch.long), torch.tensor([reward], device=torch.device(\"cpu\"), dtype=torch.float), next_state, torch.tensor([not done], device= torch.device(\"cpu\"), dtype=torch.float)))\n",
    "        if done:\n",
    "            state = env.reset()\n",
    "            state = process(state)\n",
    "            state = torch.cat([state] * 4, dim=1)\n",
    "        else:\n",
    "            state = next_state\n",
    "\n",
    "    #env = Monitor(env, directory=monitor_path, video_callable=lambda count: count % record_video_every == 0, resume=True)\n",
    "    for i_episode in range(num_episodes):\n",
    "        state = env.reset()\n",
    "        state = process(state)\n",
    "        state = torch.cat(tuple([state] * 4), dim=1)\n",
    "        loss = None\n",
    "        for t in count():\n",
    "            if num_steps % update_target_estimator_every == 0:\n",
    "                target_net.load_state_dict(policy_net.state_dict())\n",
    "\n",
    "            action = get_action()\n",
    "            next_state, reward, done, _ = env.step(action)\n",
    "            num_steps+=1\n",
    "            next_state = process(next_state)\n",
    "            next_state = torch.cat((state[:,1:,:,:],next_state), dim=1)\n",
    "\n",
    "            if len(replay_memory) == replay_memory_size:\n",
    "                replay_memory.pop(0)\n",
    "            replay_memory.append(Transition(state, torch.tensor([[action]], device= torch.device(\"cpu\"), dtype=torch.long), torch.tensor([reward], device=torch.device(\"cpu\"), dtype=torch.float), next_state, torch.tensor([not done], device= torch.device(\"cpu\"), dtype=torch.float)))\n",
    "            # Update statistics\n",
    "            stats.episode_rewards[i_episode] += reward\n",
    "            stats.episode_lengths[i_episode] +=1\n",
    "            \n",
    "            transitions = random.sample(replay_memory, batch_size)\n",
    "            batch = Transition(*zip(*transitions))\n",
    "            state_batch = (torch.cat(batch.state)).to(device)\n",
    "            action_batch = torch.cat(batch.action).to(device)\n",
    "            reward_batch = torch.cat(batch.reward).to(device)\n",
    "            next_state_batch = torch.cat(batch.next_state).to(device)\n",
    "            done_batch = torch.cat(batch.done).to(device)\n",
    "            state_action_values = policy_net(state_batch).gather(1, action_batch)\n",
    "            q_next_batch = target_net(next_state_batch).max(1)[0].detach()\n",
    "            target_batch = reward_batch + discount_factor*done_batch*q_next_batch\n",
    "            \n",
    "            loss = F.smooth_l1_loss(state_action_values, target_batch.unsqueeze(1))\n",
    "            optimizer.zero_grad()\n",
    "            loss.backward()\n",
    "            for param in policy_net.parameters():\n",
    "                param.grad.data.clamp_(-1, 1)\n",
    "            optimizer.step()\n",
    "            state = next_state\n",
    "            if done:\n",
    "                break\n",
    "            if(i_episode%1000):\n",
    "                torch.save({\n",
    "                    'episode' : i_episode//1000+1,\n",
    "                    'state_dict' : policy_net.state_dict(),\n",
    "                    'optimizer' : optimizer.state_dict()},\n",
    "                    'dqn{}.model'.format(i_episode//1000+1))\n",
    "                \n",
    "        yield num_steps, plotting.EpisodeStats(\n",
    "            episode_lengths=stats.episode_lengths[:i_episode+1],\n",
    "            episode_rewards=stats.episode_rewards[:i_episode+1])\n",
    "\n",
    "    return stats"
   ]
  },
  {
   "cell_type": "code",
   "execution_count": null,
   "metadata": {},
   "outputs": [
    {
     "name": "stdout",
     "output_type": "stream",
     "text": [
      "\n",
      "Episode Reward: 2.0\n",
      "\n",
      "Episode Reward: 8.0\n"
     ]
    }
   ],
   "source": [
    "experiment_dir = os.path.abspath(\"./experiments/{}\".format(env.spec.id))\n",
    "i = 0\n",
    "for t, stats in learn(env,num_episodes=10000,experiment_dir=experiment_dir,replay_memory_size=200000,replay_memory_init_size=20000,update_target_estimator_every=10000,discount_factor=0.99,epsilon_start=1.0,epsilon_end=0.1,epsilon_decay_steps=500000,batch_size=32,record_video_every=100):\n",
    "        if(i%100==0):    \n",
    "            print(\"\\nEpisode Reward: {}\".format(stats.episode_rewards[-1]))\n",
    "        i+=1\n",
    "        \n",
    "        "
   ]
  },
  {
   "cell_type": "code",
   "execution_count": null,
   "metadata": {},
   "outputs": [],
   "source": []
  }
 ],
 "metadata": {
  "kernelspec": {
   "display_name": "Python 3",
   "language": "python",
   "name": "python3"
  },
  "language_info": {
   "codemirror_mode": {
    "name": "ipython",
    "version": 3
   },
   "file_extension": ".py",
   "mimetype": "text/x-python",
   "name": "python",
   "nbconvert_exporter": "python",
   "pygments_lexer": "ipython3",
   "version": "3.5.2"
  }
 },
 "nbformat": 4,
 "nbformat_minor": 2
}
